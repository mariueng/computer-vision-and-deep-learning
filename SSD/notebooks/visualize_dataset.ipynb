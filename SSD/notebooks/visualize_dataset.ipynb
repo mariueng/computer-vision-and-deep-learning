{
 "cells": [
  {
   "cell_type": "code",
   "execution_count": 1,
   "metadata": {},
   "outputs": [],
   "source": [
    "import sys, os\n",
    "sys.path.append(os.path.dirname(os.getcwd())) # Include ../SSD in path\n",
    "import numpy as np\n",
    "import torch\n",
    "import matplotlib.pyplot as plt\n",
    "from vizer.draw import draw_boxes\n",
    "from tops.config import instantiate, LazyConfig\n",
    "from ssd import utils\n",
    "np.random.seed(0)\n"
   ]
  },
  {
   "cell_type": "code",
   "execution_count": 2,
   "metadata": {},
   "outputs": [
    {
     "name": "stdout",
     "output_type": "stream",
     "text": [
      "Saving SSD outputs to: outputs/\n"
     ]
    }
   ],
   "source": [
    "config_path = \"../configs/ssd300.py\"\n",
    "cfg = LazyConfig.load(config_path)\n",
    "dataset_to_visualize = \"train\" # or \"val\"\n",
    "\n",
    "dataset_to_visualize = \"train\" # or \"val\"\n",
    "cfg.train.batch_size = 1\n",
    "if dataset_to_visualize == \"train\":\n",
    "    # Remove GroundTruthBoxesToAnchors transform\n",
    "    if cfg.data_train.dataset._target_ == torch.utils.data.ConcatDataset:\n",
    "        for dataset in cfg.data_train.dataset.datasets:\n",
    "            dataset.transform.transforms = dataset.transform.transforms[:-1]\n",
    "    else:\n",
    "        cfg.data_train.dataset.transform.transforms = cfg.data_train.dataset.transform.transforms[:-1]\n",
    "    dataset = instantiate(cfg.data_train.dataloader)\n",
    "    gpu_transform = instantiate(cfg.data_train.gpu_transform)\n",
    "else:\n",
    "    cfg.data_val.dataloader.collate_fn = utils.batch_collate\n",
    "    dataset = instantiate(cfg.data_val.dataloader) \n",
    "    gpu_transform = instantiate(cfg.data_val.gpu_transform)\n",
    "\n",
    "# Assumes that the first GPU transform is Normalize\n",
    "# If it fails, just change the index from 0.\n",
    "image_mean = torch.tensor(cfg.data_train.gpu_transform.transforms[0].mean).view(1, 3, 1, 1)\n",
    "image_std = torch.tensor(cfg.data_train.gpu_transform.transforms[0].std).view(1, 3, 1, 1)\n",
    "sample = next(iter(dataset))\n",
    "sample = gpu_transform(sample)"
   ]
  },
  {
   "cell_type": "code",
   "execution_count": 3,
   "metadata": {},
   "outputs": [
    {
     "name": "stdout",
     "output_type": "stream",
     "text": [
      "The first sample in the dataset has the following keys: dict_keys(['image', 'boxes', 'labels', 'width', 'height', 'image_id'])\n",
      "image: shape=torch.Size([1, 3, 300, 300])dtype=torch.float32\n",
      "boxes: shape=torch.Size([1, 7, 4])dtype=torch.float32\n",
      "labels: shape=torch.Size([1, 7])dtype=torch.int64\n",
      "width: shape=torch.Size([1])dtype=torch.int64\n",
      "height: shape=torch.Size([1])dtype=torch.int64\n",
      "image_id: shape=torch.Size([1])dtype=torch.int64\n"
     ]
    }
   ],
   "source": [
    "\n",
    "print(\"The first sample in the dataset has the following keys:\", sample.keys())\n",
    "for key, item in sample.items():\n",
    "    print(\n",
    "        key, \": shape=\", item.shape if hasattr(item, \"shape\") else \"\", \n",
    "        \"dtype=\", item.dtype if hasattr(item, \"dtype\") else type(item), sep=\"\")\n"
   ]
  },
  {
   "cell_type": "code",
   "execution_count": 4,
   "metadata": {},
   "outputs": [
    {
     "data": {
      "image/png": "[encoded data removed]",
      "text/plain": [
       "<Figure size 432x288 with 1 Axes>"
      ]
     },
     "metadata": {
      "needs_background": "light"
     },
     "output_type": "display_data"
    }
   ],
   "source": [
    "\n",
    "image = (sample[\"image\"] * image_std + image_mean)\n",
    "image = (image*255).byte()[0]\n",
    "boxes = sample[\"boxes\"][0]\n",
    "boxes[:, [0, 2]] *= image.shape[-1]\n",
    "boxes[:, [1, 3]] *= image.shape[-2]\n",
    "im = image.permute(1, 2, 0).cpu().numpy()\n",
    "im = draw_boxes(im, boxes.cpu().numpy(), sample[\"labels\"][0].cpu().numpy().tolist(), class_name_map=cfg.label_map)\n",
    "\n",
    "\n",
    "plt.imshow(im)\n",
    "plt.show()"
   ]
  }
 ],
 "metadata": {
  "interpreter": {
   "hash": "088b827b8b985f163c2bc9e7571c109fd1cd09e7d4200c98bc68a07b57088618"
  },
  "kernelspec": {
   "display_name": "Python 3 (ipykernel)",
   "language": "python",
   "name": "python3"
  },
  "language_info": {
   "codemirror_mode": {
    "name": "ipython",
    "version": 3
   },
   "file_extension": ".py",
   "mimetype": "text/x-python",
   "name": "python",
   "nbconvert_exporter": "python",
   "pygments_lexer": "ipython3",
   "version": "3.8.12"
  }
 },
 "nbformat": 4,
 "nbformat_minor": 4
}
