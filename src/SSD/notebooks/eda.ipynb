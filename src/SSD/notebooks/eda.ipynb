{
 "cells": [
  {
   "cell_type": "markdown",
   "metadata": {},
   "source": [
    "# Explorative Data Analysis\n",
    "\n",
    "This notebook is the basis for the explorative data analysis for Task 1.1.\n",
    "\n",
    "The task is as follows:\n",
    "\n",
    "> Perform an exhaustive dataset analysis to explore the attributes of the TDT4265 dataset. The analysis should highlight commonalities, limitations and perhaps interesting samples in the dataset (both images and labels). You are free to choose how to present the analysis, and the analysis can be both statistical and qualitative. To get you started, you can try to analyze the size of the objects in the dataset.\n",
    "\n",
    "For more information, these blog posts have been used for inspiration:\n",
    "* [Popular Object Detection datasets - Analysis and Statistics](https://medium.com/@vijayshankerdubey550/popular-object-detection-datasets-analysis-and-statistics-66acdacc3aa9) (Medium article)\n",
    "* [How to Do Data Exploration for Image Segmentation and Object Detection](https://neptune.ai/blog/data-exploration-for-image-segmentation-and-object-detection) (Neptune blog)\n",
    "* [How to work with object detection datasets in COCO format](https://towardsdatascience.com/how-to-work-with-object-detection-datasets-in-coco-format-9bf4fb5848a4) (Medium article)\n",
    "* [Visualizing Object Detections](https://medium.com/voxel51/visualizing-object-detections-9d0ed766297c) (Medium article)\n",
    "\n",
    "This lead to the following points of interest:\n",
    "* Intra-class varability\n",
    "* Inter-class variability\n",
    "* Image size\n",
    "* Class imbalance\n",
    "* Object size to image size\n",
    "* Background clutter\n",
    "* Occlusion\n",
    "\n",
    "And these interesting statistics:\n",
    "* Number of objects per category\n",
    "* Number of objects contained in a single image\n",
    "* Size of the images present in the dataset\n",
    "* Ratio of areas of Object size and Image size, for each object present in the image\n",
    "* Overlap between objects"
   ]
  },
  {
   "cell_type": "code",
   "execution_count": 50,
   "metadata": {},
   "outputs": [
    {
     "name": "stdout",
     "output_type": "stream",
     "text": [
      "The autoreload extension is already loaded. To reload it, use:\n",
      "  %reload_ext autoreload\n"
     ]
    }
   ],
   "source": [
    "# Settings\n",
    "\n",
    "# Autoimport changes in code\n",
    "%load_ext autoreload\n",
    "%autoreload 2\n",
    "\n",
    "import sys, os\n",
    "sys.path.append(os.path.dirname(os.getcwd())) # Include ../SSD in path\n",
    "\n",
    "# Third party libraries\n",
    "import numpy as np\n",
    "import torch\n",
    "import matplotlib.pyplot as plt\n",
    "from vizer.draw import draw_boxes\n",
    "from tops.config import instantiate, LazyConfig\n",
    "from ssd import utils\n",
    "\n",
    "# Local libraries\n",
    "from dataset_exploration.dataset_statistics import (\n",
    "    statistics,\n",
    "    analyze_distribution,\n",
    "    analyze_bounding_boxes,\n",
    "    get_config,\n",
    "    get_dataloader,\n",
    ")\n",
    "\n",
    "# Set seed\n",
    "np.random.seed(0)"
   ]
  },
  {
   "cell_type": "markdown",
   "metadata": {},
   "source": [
    "### Load Dataset\n",
    "\n",
    "Only the training data will be used in the statistical analysis."
   ]
  },
  {
   "cell_type": "code",
   "execution_count": 56,
   "metadata": {},
   "outputs": [
    {
     "name": "stdout",
     "output_type": "stream",
     "text": [
      "/Users/mariu/dev/school/TDT4265/project/computer-vision-and-deep-learning/src/SSD\n"
     ]
    }
   ],
   "source": [
    "# Only necessary to run this on local machine\n",
    "%cd SSD\n",
    "# ../"
   ]
  },
  {
   "cell_type": "code",
   "execution_count": 57,
   "metadata": {},
   "outputs": [
    {
     "name": "stdout",
     "output_type": "stream",
     "text": [
      "Saving SSD outputs to: outputs/\n",
      "Dataloader attributes:\n",
      "['batch_sampler', 'batch_size', 'check_worker_number_rationality', 'collate_fn', 'dataset', 'drop_last', 'generator', 'multiprocessing_context', 'num_workers', 'persistent_workers', 'pin_memory', 'prefetch_factor', 'sampler', 'timeout', 'worker_init_fn']\n"
     ]
    }
   ],
   "source": [
    "# Load data\n",
    "\n",
    "# Load config\n",
    "config_path = \"/Users/mariu/dev/school/TDT4265/project/computer-vision-and-deep-learning/src/SSD/configs/tdt4265.py\"  # This is to be used until Task 2.5\n",
    "cfg = get_config(config_path)\n",
    "\n",
    "# Get dataloader\n",
    "dataset_to_explore = \"train\"\n",
    "dataloader = get_dataloader(cfg, dataset_to_explore)\n",
    "\n",
    "print('Dataloader attributes:')\n",
    "print(['batch_sampler', 'batch_size', 'check_worker_number_rationality', 'collate_fn', 'dataset', 'drop_last', 'generator', 'multiprocessing_context', 'num_workers', 'persistent_workers', 'pin_memory', 'prefetch_factor', 'sampler', 'timeout', 'worker_init_fn'])"
   ]
  },
  {
   "cell_type": "code",
   "execution_count": 58,
   "metadata": {},
   "outputs": [
    {
     "name": "stdout",
     "output_type": "stream",
     "text": [
      "Dataset attributes: \n",
      "['annotate_file', 'class_names', 'data', 'get_annotations_as_coco', 'images', 'img_folder', 'img_keys', 'label_info', 'label_map', 'transform']\n"
     ]
    }
   ],
   "source": [
    "dataset = dataloader.dataset\n",
    "\n",
    "print('Dataset attributes: ')\n",
    "print(['annotate_file', 'class_names', 'data', 'get_annotations_as_coco', 'images', 'img_folder', 'img_keys', 'label_info', 'label_map', 'transform'])"
   ]
  },
  {
   "cell_type": "code",
   "execution_count": 63,
   "metadata": {},
   "outputs": [
    {
     "data": {
      "text/plain": [
       "{'img_folder': 'data/tdt4265_2022', 'transform': '${train_cpu_transform}', 'annotation_file': 'data/tdt4265_2022/train_annotations.json', '_target_': <class 'ssd.data.tdt4265.TDT4265Dataset'>}"
      ]
     },
     "execution_count": 63,
     "metadata": {},
     "output_type": "execute_result"
    }
   ],
   "source": [
    "cfg.data_train.dataset"
   ]
  },
  {
   "cell_type": "markdown",
   "metadata": {},
   "source": [
    "### Statistics\n",
    "\n",
    "Exploring statistics such as:\n",
    "* Number of objects per category\n",
    "* Number of objects contained in a single image\n",
    "* Size of the images present in the dataset\n",
    "* Ratio of areas of Object size and Image size, for each object present in the image\n",
    "* Overlap between objects"
   ]
  },
  {
   "cell_type": "code",
   "execution_count": null,
   "metadata": {},
   "outputs": [],
   "source": [
    "# Get basic information\n",
    "label_map = dataset.label_info\n"
   ]
  },
  {
   "cell_type": "code",
   "execution_count": null,
   "metadata": {},
   "outputs": [],
   "source": [
    "# Calculate number of objects per category\n"
   ]
  },
  {
   "cell_type": "code",
   "execution_count": null,
   "metadata": {},
   "outputs": [],
   "source": [
    "# Calculate average number of objects contained in each image\n"
   ]
  },
  {
   "cell_type": "code",
   "execution_count": null,
   "metadata": {},
   "outputs": [],
   "source": [
    "# Get image size\n"
   ]
  },
  {
   "cell_type": "code",
   "execution_count": 23,
   "metadata": {},
   "outputs": [],
   "source": [
    "# Calculate overlap between objects\n"
   ]
  },
  {
   "cell_type": "markdown",
   "metadata": {},
   "source": [
    "### Object size to image size\n",
    "\n",
    "This section explores object sizes independently, and also in relation to the image size (1024, 128, 3)."
   ]
  },
  {
   "cell_type": "code",
   "execution_count": null,
   "metadata": {},
   "outputs": [],
   "source": [
    "\n"
   ]
  },
  {
   "cell_type": "code",
   "execution_count": null,
   "metadata": {},
   "outputs": [],
   "source": [
    "# Calculate ratio of areas of object size and image size, for each object present in each image\n"
   ]
  },
  {
   "cell_type": "markdown",
   "metadata": {},
   "source": []
  }
 ],
 "metadata": {
  "interpreter": {
   "hash": "b53cd25f72a00c919db9f9f43fdde15b1d5c1f2e3da36e4a0b6ae6a0568d2a5b"
  },
  "kernelspec": {
   "display_name": "Python 3.8.12 64-bit ('tdt4265')",
   "language": "python",
   "name": "python3"
  },
  "language_info": {
   "codemirror_mode": {
    "name": "ipython",
    "version": 3
   },
   "file_extension": ".py",
   "mimetype": "text/x-python",
   "name": "python",
   "nbconvert_exporter": "python",
   "pygments_lexer": "ipython3",
   "version": "3.8.12"
  },
  "orig_nbformat": 4
 },
 "nbformat": 4,
 "nbformat_minor": 2
}
